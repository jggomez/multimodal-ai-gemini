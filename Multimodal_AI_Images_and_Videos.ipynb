{
  "nbformat": 4,
  "nbformat_minor": 0,
  "metadata": {
    "colab": {
      "provenance": []
    },
    "kernelspec": {
      "name": "python3",
      "display_name": "Python 3"
    },
    "language_info": {
      "name": "python"
    }
  },
  "cells": [
    {
      "cell_type": "markdown",
      "source": [
        "# Gemini API with images and video input"
      ],
      "metadata": {
        "id": "hyxlb9fOTayn"
      }
    },
    {
      "cell_type": "code",
      "source": [
        "!pip install google-cloud-aiplatform\n",
        "!pip install rich"
      ],
      "metadata": {
        "colab": {
          "base_uri": "https://localhost:8080/"
        },
        "collapsed": true,
        "id": "XCzrwskAUyLq",
        "outputId": "fe395acd-c2b3-490c-9d37-67868117fd85"
      },
      "execution_count": 1,
      "outputs": [
        {
          "output_type": "stream",
          "name": "stdout",
          "text": [
            "Requirement already satisfied: google-cloud-aiplatform in /usr/local/lib/python3.10/dist-packages (1.59.0)\n",
            "Requirement already satisfied: google-api-core!=2.0.*,!=2.1.*,!=2.2.*,!=2.3.*,!=2.4.*,!=2.5.*,!=2.6.*,!=2.7.*,<3.0.0dev,>=1.34.1 in /usr/local/lib/python3.10/dist-packages (from google-api-core[grpc]!=2.0.*,!=2.1.*,!=2.2.*,!=2.3.*,!=2.4.*,!=2.5.*,!=2.6.*,!=2.7.*,<3.0.0dev,>=1.34.1->google-cloud-aiplatform) (2.19.1)\n",
            "Requirement already satisfied: google-auth<3.0.0dev,>=2.14.1 in /usr/local/lib/python3.10/dist-packages (from google-cloud-aiplatform) (2.27.0)\n",
            "Requirement already satisfied: proto-plus<2.0.0dev,>=1.22.3 in /usr/local/lib/python3.10/dist-packages (from google-cloud-aiplatform) (1.24.0)\n",
            "Requirement already satisfied: protobuf!=3.20.0,!=3.20.1,!=4.21.0,!=4.21.1,!=4.21.2,!=4.21.3,!=4.21.4,!=4.21.5,<5.0.0dev,>=3.19.5 in /usr/local/lib/python3.10/dist-packages (from google-cloud-aiplatform) (3.20.3)\n",
            "Requirement already satisfied: packaging>=14.3 in /usr/local/lib/python3.10/dist-packages (from google-cloud-aiplatform) (24.1)\n",
            "Requirement already satisfied: google-cloud-storage<3.0.0dev,>=1.32.0 in /usr/local/lib/python3.10/dist-packages (from google-cloud-aiplatform) (2.8.0)\n",
            "Requirement already satisfied: google-cloud-bigquery!=3.20.0,<4.0.0dev,>=1.15.0 in /usr/local/lib/python3.10/dist-packages (from google-cloud-aiplatform) (3.25.0)\n",
            "Requirement already satisfied: google-cloud-resource-manager<3.0.0dev,>=1.3.3 in /usr/local/lib/python3.10/dist-packages (from google-cloud-aiplatform) (1.12.4)\n",
            "Requirement already satisfied: shapely<3.0.0dev in /usr/local/lib/python3.10/dist-packages (from google-cloud-aiplatform) (2.0.5)\n",
            "Requirement already satisfied: pydantic<3 in /usr/local/lib/python3.10/dist-packages (from google-cloud-aiplatform) (2.8.2)\n",
            "Requirement already satisfied: docstring-parser<1 in /usr/local/lib/python3.10/dist-packages (from google-cloud-aiplatform) (0.16)\n",
            "Requirement already satisfied: googleapis-common-protos<2.0.dev0,>=1.56.2 in /usr/local/lib/python3.10/dist-packages (from google-api-core!=2.0.*,!=2.1.*,!=2.2.*,!=2.3.*,!=2.4.*,!=2.5.*,!=2.6.*,!=2.7.*,<3.0.0dev,>=1.34.1->google-api-core[grpc]!=2.0.*,!=2.1.*,!=2.2.*,!=2.3.*,!=2.4.*,!=2.5.*,!=2.6.*,!=2.7.*,<3.0.0dev,>=1.34.1->google-cloud-aiplatform) (1.63.2)\n",
            "Requirement already satisfied: requests<3.0.0.dev0,>=2.18.0 in /usr/local/lib/python3.10/dist-packages (from google-api-core!=2.0.*,!=2.1.*,!=2.2.*,!=2.3.*,!=2.4.*,!=2.5.*,!=2.6.*,!=2.7.*,<3.0.0dev,>=1.34.1->google-api-core[grpc]!=2.0.*,!=2.1.*,!=2.2.*,!=2.3.*,!=2.4.*,!=2.5.*,!=2.6.*,!=2.7.*,<3.0.0dev,>=1.34.1->google-cloud-aiplatform) (2.31.0)\n",
            "Requirement already satisfied: grpcio<2.0dev,>=1.33.2 in /usr/local/lib/python3.10/dist-packages (from google-api-core[grpc]!=2.0.*,!=2.1.*,!=2.2.*,!=2.3.*,!=2.4.*,!=2.5.*,!=2.6.*,!=2.7.*,<3.0.0dev,>=1.34.1->google-cloud-aiplatform) (1.64.1)\n",
            "Requirement already satisfied: grpcio-status<2.0.dev0,>=1.33.2 in /usr/local/lib/python3.10/dist-packages (from google-api-core[grpc]!=2.0.*,!=2.1.*,!=2.2.*,!=2.3.*,!=2.4.*,!=2.5.*,!=2.6.*,!=2.7.*,<3.0.0dev,>=1.34.1->google-cloud-aiplatform) (1.48.2)\n",
            "Requirement already satisfied: cachetools<6.0,>=2.0.0 in /usr/local/lib/python3.10/dist-packages (from google-auth<3.0.0dev,>=2.14.1->google-cloud-aiplatform) (5.4.0)\n",
            "Requirement already satisfied: pyasn1-modules>=0.2.1 in /usr/local/lib/python3.10/dist-packages (from google-auth<3.0.0dev,>=2.14.1->google-cloud-aiplatform) (0.4.0)\n",
            "Requirement already satisfied: rsa<5,>=3.1.4 in /usr/local/lib/python3.10/dist-packages (from google-auth<3.0.0dev,>=2.14.1->google-cloud-aiplatform) (4.9)\n",
            "Requirement already satisfied: google-cloud-core<3.0.0dev,>=1.6.0 in /usr/local/lib/python3.10/dist-packages (from google-cloud-bigquery!=3.20.0,<4.0.0dev,>=1.15.0->google-cloud-aiplatform) (2.4.1)\n",
            "Requirement already satisfied: google-resumable-media<3.0dev,>=0.6.0 in /usr/local/lib/python3.10/dist-packages (from google-cloud-bigquery!=3.20.0,<4.0.0dev,>=1.15.0->google-cloud-aiplatform) (2.7.1)\n",
            "Requirement already satisfied: python-dateutil<3.0dev,>=2.7.2 in /usr/local/lib/python3.10/dist-packages (from google-cloud-bigquery!=3.20.0,<4.0.0dev,>=1.15.0->google-cloud-aiplatform) (2.8.2)\n",
            "Requirement already satisfied: grpc-google-iam-v1<1.0.0dev,>=0.12.4 in /usr/local/lib/python3.10/dist-packages (from google-cloud-resource-manager<3.0.0dev,>=1.3.3->google-cloud-aiplatform) (0.13.1)\n",
            "Requirement already satisfied: annotated-types>=0.4.0 in /usr/local/lib/python3.10/dist-packages (from pydantic<3->google-cloud-aiplatform) (0.7.0)\n",
            "Requirement already satisfied: pydantic-core==2.20.1 in /usr/local/lib/python3.10/dist-packages (from pydantic<3->google-cloud-aiplatform) (2.20.1)\n",
            "Requirement already satisfied: typing-extensions>=4.6.1 in /usr/local/lib/python3.10/dist-packages (from pydantic<3->google-cloud-aiplatform) (4.12.2)\n",
            "Requirement already satisfied: numpy<3,>=1.14 in /usr/local/lib/python3.10/dist-packages (from shapely<3.0.0dev->google-cloud-aiplatform) (1.25.2)\n",
            "Requirement already satisfied: google-crc32c<2.0dev,>=1.0 in /usr/local/lib/python3.10/dist-packages (from google-resumable-media<3.0dev,>=0.6.0->google-cloud-bigquery!=3.20.0,<4.0.0dev,>=1.15.0->google-cloud-aiplatform) (1.5.0)\n",
            "Requirement already satisfied: pyasn1<0.7.0,>=0.4.6 in /usr/local/lib/python3.10/dist-packages (from pyasn1-modules>=0.2.1->google-auth<3.0.0dev,>=2.14.1->google-cloud-aiplatform) (0.6.0)\n",
            "Requirement already satisfied: six>=1.5 in /usr/local/lib/python3.10/dist-packages (from python-dateutil<3.0dev,>=2.7.2->google-cloud-bigquery!=3.20.0,<4.0.0dev,>=1.15.0->google-cloud-aiplatform) (1.16.0)\n",
            "Requirement already satisfied: charset-normalizer<4,>=2 in /usr/local/lib/python3.10/dist-packages (from requests<3.0.0.dev0,>=2.18.0->google-api-core!=2.0.*,!=2.1.*,!=2.2.*,!=2.3.*,!=2.4.*,!=2.5.*,!=2.6.*,!=2.7.*,<3.0.0dev,>=1.34.1->google-api-core[grpc]!=2.0.*,!=2.1.*,!=2.2.*,!=2.3.*,!=2.4.*,!=2.5.*,!=2.6.*,!=2.7.*,<3.0.0dev,>=1.34.1->google-cloud-aiplatform) (3.3.2)\n",
            "Requirement already satisfied: idna<4,>=2.5 in /usr/local/lib/python3.10/dist-packages (from requests<3.0.0.dev0,>=2.18.0->google-api-core!=2.0.*,!=2.1.*,!=2.2.*,!=2.3.*,!=2.4.*,!=2.5.*,!=2.6.*,!=2.7.*,<3.0.0dev,>=1.34.1->google-api-core[grpc]!=2.0.*,!=2.1.*,!=2.2.*,!=2.3.*,!=2.4.*,!=2.5.*,!=2.6.*,!=2.7.*,<3.0.0dev,>=1.34.1->google-cloud-aiplatform) (3.7)\n",
            "Requirement already satisfied: urllib3<3,>=1.21.1 in /usr/local/lib/python3.10/dist-packages (from requests<3.0.0.dev0,>=2.18.0->google-api-core!=2.0.*,!=2.1.*,!=2.2.*,!=2.3.*,!=2.4.*,!=2.5.*,!=2.6.*,!=2.7.*,<3.0.0dev,>=1.34.1->google-api-core[grpc]!=2.0.*,!=2.1.*,!=2.2.*,!=2.3.*,!=2.4.*,!=2.5.*,!=2.6.*,!=2.7.*,<3.0.0dev,>=1.34.1->google-cloud-aiplatform) (2.0.7)\n",
            "Requirement already satisfied: certifi>=2017.4.17 in /usr/local/lib/python3.10/dist-packages (from requests<3.0.0.dev0,>=2.18.0->google-api-core!=2.0.*,!=2.1.*,!=2.2.*,!=2.3.*,!=2.4.*,!=2.5.*,!=2.6.*,!=2.7.*,<3.0.0dev,>=1.34.1->google-api-core[grpc]!=2.0.*,!=2.1.*,!=2.2.*,!=2.3.*,!=2.4.*,!=2.5.*,!=2.6.*,!=2.7.*,<3.0.0dev,>=1.34.1->google-cloud-aiplatform) (2024.7.4)\n",
            "Requirement already satisfied: rich in /usr/local/lib/python3.10/dist-packages (13.7.1)\n",
            "Requirement already satisfied: markdown-it-py>=2.2.0 in /usr/local/lib/python3.10/dist-packages (from rich) (3.0.0)\n",
            "Requirement already satisfied: pygments<3.0.0,>=2.13.0 in /usr/local/lib/python3.10/dist-packages (from rich) (2.16.1)\n",
            "Requirement already satisfied: mdurl~=0.1 in /usr/local/lib/python3.10/dist-packages (from markdown-it-py>=2.2.0->rich) (0.1.2)\n"
          ]
        }
      ]
    },
    {
      "cell_type": "code",
      "execution_count": 2,
      "metadata": {
        "id": "yuMVOnnPDm75"
      },
      "outputs": [],
      "source": [
        "from google.colab import userdata\n",
        "GOOGLE_API_KEY = userdata.get('GOOGLE_API_KEY')\n",
        "\n",
        "import google.generativeai as genai\n",
        "genai.configure(api_key=GOOGLE_API_KEY)\n",
        "\n",
        "from rich.console import Console\n",
        "console = Console()"
      ]
    },
    {
      "cell_type": "markdown",
      "source": [
        "Gemini 1.5 Pro and 1.5 Flash support a maximum of 3,600 image files.\n",
        "\n",
        "Images must be in one of the following image data MIME types:\n",
        "*   PNG - image/png\n",
        "*   JPEG - image/jpeg\n",
        "*   WEBP - image/webp\n",
        "*   HEIC - image/heic\n",
        "*   HEIF - image/heif\n",
        "\n",
        "Each image is equivalent to 258 tokens.\n",
        "\n",
        "For best results:\n",
        "\n",
        "*   Rotate images to the correct orientation before uploading.\n",
        "*   Avoid blurry images.\n",
        "*   If using a single image, place the text prompt after the image."
      ],
      "metadata": {
        "id": "r6wLG-hFVFVa"
      }
    },
    {
      "cell_type": "markdown",
      "source": [],
      "metadata": {
        "id": "NUSN7u9yYZ-Z"
      }
    },
    {
      "cell_type": "code",
      "source": [
        "!curl -o animales_mexico.jpeg https://storage.googleapis.com/questionsanswersproject/animales_mexico.jpeg"
      ],
      "metadata": {
        "colab": {
          "base_uri": "https://localhost:8080/"
        },
        "id": "Y6Wq_ECQYbCV",
        "outputId": "49ae5ef7-8460-4ec3-df91-51354d61a44f"
      },
      "execution_count": 3,
      "outputs": [
        {
          "output_type": "stream",
          "name": "stdout",
          "text": [
            "  % Total    % Received % Xferd  Average Speed   Time    Time     Time  Current\n",
            "                                 Dload  Upload   Total   Spent    Left  Speed\n",
            "100  283k  100  283k    0     0  1358k      0 --:--:-- --:--:-- --:--:-- 1360k\n"
          ]
        }
      ]
    },
    {
      "cell_type": "code",
      "source": [
        "ref_image = genai.upload_file(path=\"animales_mexico.jpeg\", display_name=\"animales_mexico\")\n",
        "console.print(f\"{ref_image=}\")"
      ],
      "metadata": {
        "colab": {
          "base_uri": "https://localhost:8080/",
          "height": 197
        },
        "id": "tS57Wao_VGwM",
        "outputId": "a5aa9c2d-f37f-4b70-f328-d63b52a03fb0"
      },
      "execution_count": 4,
      "outputs": [
        {
          "output_type": "display_data",
          "data": {
            "text/plain": [
              "\u001b[33mref_image\u001b[0m=\u001b[1;35mgenai\u001b[0m\u001b[1;35m.File\u001b[0m\u001b[1m(\u001b[0m\u001b[1m{\u001b[0m\n",
              "    \u001b[32m'name'\u001b[0m: \u001b[32m'files/u78d7x3n1sa6'\u001b[0m,\n",
              "    \u001b[32m'display_name'\u001b[0m: \u001b[32m'animales_mexico'\u001b[0m,\n",
              "    \u001b[32m'mime_type'\u001b[0m: \u001b[32m'image/jpeg'\u001b[0m,\n",
              "    \u001b[32m'sha256_hash'\u001b[0m: \u001b[32m'YTc0NTkyNTVmY2M1OTY0Njk4NTkwYjgxMGI3\u001b[0m\u001b[32mNmMxZTAzNTA3NWQ3OTA2MTNhNDA3NTlhNTQ0ZWIyZGZiYjQ1ZA\u001b[0m\u001b[32m=='\u001b[0m,\n",
              "    \u001b[32m'size_bytes'\u001b[0m: \u001b[32m'289881'\u001b[0m,\n",
              "    \u001b[32m'state'\u001b[0m: \u001b[32m'ACTIVE'\u001b[0m,\n",
              "    \u001b[32m'uri'\u001b[0m: \u001b[32m'https://generativelanguage.googleapis.com/v1beta/files/u78d7x3n1sa6'\u001b[0m,\n",
              "    \u001b[32m'create_time'\u001b[0m: \u001b[32m'2024-07-26T04:02:03.189971Z'\u001b[0m,\n",
              "    \u001b[32m'expiration_time'\u001b[0m: \u001b[32m'2024-07-28T04:02:03.178460021Z'\u001b[0m,\n",
              "    \u001b[32m'update_time'\u001b[0m: \u001b[32m'2024-07-26T04:02:03.189971Z'\u001b[0m\u001b[1m}\u001b[0m\u001b[1m)\u001b[0m\n"
            ],
            "text/html": [
              "<pre style=\"white-space:pre;overflow-x:auto;line-height:normal;font-family:Menlo,'DejaVu Sans Mono',consolas,'Courier New',monospace\"><span style=\"color: #808000; text-decoration-color: #808000\">ref_image</span>=<span style=\"color: #800080; text-decoration-color: #800080; font-weight: bold\">genai</span><span style=\"color: #800080; text-decoration-color: #800080; font-weight: bold\">.File</span><span style=\"font-weight: bold\">({</span>\n",
              "    <span style=\"color: #008000; text-decoration-color: #008000\">'name'</span>: <span style=\"color: #008000; text-decoration-color: #008000\">'files/u78d7x3n1sa6'</span>,\n",
              "    <span style=\"color: #008000; text-decoration-color: #008000\">'display_name'</span>: <span style=\"color: #008000; text-decoration-color: #008000\">'animales_mexico'</span>,\n",
              "    <span style=\"color: #008000; text-decoration-color: #008000\">'mime_type'</span>: <span style=\"color: #008000; text-decoration-color: #008000\">'image/jpeg'</span>,\n",
              "    <span style=\"color: #008000; text-decoration-color: #008000\">'sha256_hash'</span>: <span style=\"color: #008000; text-decoration-color: #008000\">'YTc0NTkyNTVmY2M1OTY0Njk4NTkwYjgxMGI3NmMxZTAzNTA3NWQ3OTA2MTNhNDA3NTlhNTQ0ZWIyZGZiYjQ1ZA=='</span>,\n",
              "    <span style=\"color: #008000; text-decoration-color: #008000\">'size_bytes'</span>: <span style=\"color: #008000; text-decoration-color: #008000\">'289881'</span>,\n",
              "    <span style=\"color: #008000; text-decoration-color: #008000\">'state'</span>: <span style=\"color: #008000; text-decoration-color: #008000\">'ACTIVE'</span>,\n",
              "    <span style=\"color: #008000; text-decoration-color: #008000\">'uri'</span>: <span style=\"color: #008000; text-decoration-color: #008000\">'https://generativelanguage.googleapis.com/v1beta/files/u78d7x3n1sa6'</span>,\n",
              "    <span style=\"color: #008000; text-decoration-color: #008000\">'create_time'</span>: <span style=\"color: #008000; text-decoration-color: #008000\">'2024-07-26T04:02:03.189971Z'</span>,\n",
              "    <span style=\"color: #008000; text-decoration-color: #008000\">'expiration_time'</span>: <span style=\"color: #008000; text-decoration-color: #008000\">'2024-07-28T04:02:03.178460021Z'</span>,\n",
              "    <span style=\"color: #008000; text-decoration-color: #008000\">'update_time'</span>: <span style=\"color: #008000; text-decoration-color: #008000\">'2024-07-26T04:02:03.189971Z'</span><span style=\"font-weight: bold\">})</span>\n",
              "</pre>\n"
            ]
          },
          "metadata": {}
        }
      ]
    },
    {
      "cell_type": "code",
      "source": [
        "file = genai.get_file(name=ref_image.name)\n",
        "console.print(f\"{file=}\")"
      ],
      "metadata": {
        "colab": {
          "base_uri": "https://localhost:8080/",
          "height": 197
        },
        "id": "rVNXINOtaLQY",
        "outputId": "70f87d3d-daa1-452e-c4e6-4587f853ad56"
      },
      "execution_count": 5,
      "outputs": [
        {
          "output_type": "display_data",
          "data": {
            "text/plain": [
              "\u001b[33mfile\u001b[0m=\u001b[1;35mgenai\u001b[0m\u001b[1;35m.File\u001b[0m\u001b[1m(\u001b[0m\u001b[1m{\u001b[0m\n",
              "    \u001b[32m'name'\u001b[0m: \u001b[32m'files/u78d7x3n1sa6'\u001b[0m,\n",
              "    \u001b[32m'display_name'\u001b[0m: \u001b[32m'animales_mexico'\u001b[0m,\n",
              "    \u001b[32m'mime_type'\u001b[0m: \u001b[32m'image/jpeg'\u001b[0m,\n",
              "    \u001b[32m'sha256_hash'\u001b[0m: \u001b[32m'YTc0NTkyNTVmY2M1OTY0Njk4NTkwYjgxMGI3\u001b[0m\u001b[32mNmMxZTAzNTA3NWQ3OTA2MTNhNDA3NTlhNTQ0ZWIyZGZiYjQ1ZA\u001b[0m\u001b[32m=='\u001b[0m,\n",
              "    \u001b[32m'size_bytes'\u001b[0m: \u001b[32m'289881'\u001b[0m,\n",
              "    \u001b[32m'state'\u001b[0m: \u001b[32m'ACTIVE'\u001b[0m,\n",
              "    \u001b[32m'uri'\u001b[0m: \u001b[32m'https://generativelanguage.googleapis.com/v1beta/files/u78d7x3n1sa6'\u001b[0m,\n",
              "    \u001b[32m'create_time'\u001b[0m: \u001b[32m'2024-07-26T04:02:03.189971Z'\u001b[0m,\n",
              "    \u001b[32m'expiration_time'\u001b[0m: \u001b[32m'2024-07-28T04:02:03.178460021Z'\u001b[0m,\n",
              "    \u001b[32m'update_time'\u001b[0m: \u001b[32m'2024-07-26T04:02:03.189971Z'\u001b[0m\u001b[1m}\u001b[0m\u001b[1m)\u001b[0m\n"
            ],
            "text/html": [
              "<pre style=\"white-space:pre;overflow-x:auto;line-height:normal;font-family:Menlo,'DejaVu Sans Mono',consolas,'Courier New',monospace\"><span style=\"color: #808000; text-decoration-color: #808000\">file</span>=<span style=\"color: #800080; text-decoration-color: #800080; font-weight: bold\">genai</span><span style=\"color: #800080; text-decoration-color: #800080; font-weight: bold\">.File</span><span style=\"font-weight: bold\">({</span>\n",
              "    <span style=\"color: #008000; text-decoration-color: #008000\">'name'</span>: <span style=\"color: #008000; text-decoration-color: #008000\">'files/u78d7x3n1sa6'</span>,\n",
              "    <span style=\"color: #008000; text-decoration-color: #008000\">'display_name'</span>: <span style=\"color: #008000; text-decoration-color: #008000\">'animales_mexico'</span>,\n",
              "    <span style=\"color: #008000; text-decoration-color: #008000\">'mime_type'</span>: <span style=\"color: #008000; text-decoration-color: #008000\">'image/jpeg'</span>,\n",
              "    <span style=\"color: #008000; text-decoration-color: #008000\">'sha256_hash'</span>: <span style=\"color: #008000; text-decoration-color: #008000\">'YTc0NTkyNTVmY2M1OTY0Njk4NTkwYjgxMGI3NmMxZTAzNTA3NWQ3OTA2MTNhNDA3NTlhNTQ0ZWIyZGZiYjQ1ZA=='</span>,\n",
              "    <span style=\"color: #008000; text-decoration-color: #008000\">'size_bytes'</span>: <span style=\"color: #008000; text-decoration-color: #008000\">'289881'</span>,\n",
              "    <span style=\"color: #008000; text-decoration-color: #008000\">'state'</span>: <span style=\"color: #008000; text-decoration-color: #008000\">'ACTIVE'</span>,\n",
              "    <span style=\"color: #008000; text-decoration-color: #008000\">'uri'</span>: <span style=\"color: #008000; text-decoration-color: #008000\">'https://generativelanguage.googleapis.com/v1beta/files/u78d7x3n1sa6'</span>,\n",
              "    <span style=\"color: #008000; text-decoration-color: #008000\">'create_time'</span>: <span style=\"color: #008000; text-decoration-color: #008000\">'2024-07-26T04:02:03.189971Z'</span>,\n",
              "    <span style=\"color: #008000; text-decoration-color: #008000\">'expiration_time'</span>: <span style=\"color: #008000; text-decoration-color: #008000\">'2024-07-28T04:02:03.178460021Z'</span>,\n",
              "    <span style=\"color: #008000; text-decoration-color: #008000\">'update_time'</span>: <span style=\"color: #008000; text-decoration-color: #008000\">'2024-07-26T04:02:03.189971Z'</span><span style=\"font-weight: bold\">})</span>\n",
              "</pre>\n"
            ]
          },
          "metadata": {}
        }
      ]
    },
    {
      "cell_type": "code",
      "source": [
        "model = genai.GenerativeModel('gemini-1.5-flash-001')\n",
        "prompt = [ref_image, \"Write a nature blog with the following mexican animals:\"]\n",
        "response = model.generate_content(prompt, stream=True)\n",
        "for chunk in response:\n",
        "  console.print(chunk.text)"
      ],
      "metadata": {
        "colab": {
          "base_uri": "https://localhost:8080/",
          "height": 622
        },
        "id": "NQAxlcBhaoeq",
        "outputId": "850e301f-abc5-4c5d-ac65-43408a888299"
      },
      "execution_count": 6,
      "outputs": [
        {
          "output_type": "display_data",
          "data": {
            "text/plain": [
              "##\n"
            ],
            "text/html": [
              "<pre style=\"white-space:pre;overflow-x:auto;line-height:normal;font-family:Menlo,'DejaVu Sans Mono',consolas,'Courier New',monospace\">##\n",
              "</pre>\n"
            ]
          },
          "metadata": {}
        },
        {
          "output_type": "display_data",
          "data": {
            "text/plain": [
              " A Journey Through Mexico's Diverse Wildlife: From Axolotls to Prairie\n"
            ],
            "text/html": [
              "<pre style=\"white-space:pre;overflow-x:auto;line-height:normal;font-family:Menlo,'DejaVu Sans Mono',consolas,'Courier New',monospace\"> A Journey Through Mexico's Diverse Wildlife: From Axolotls to Prairie\n",
              "</pre>\n"
            ]
          },
          "metadata": {}
        },
        {
          "output_type": "display_data",
          "data": {
            "text/plain": [
              " Dogs\n",
              "\n",
              "Mexico is a land of vibrant colors, rich history, and incredibly diverse\n"
            ],
            "text/html": [
              "<pre style=\"white-space:pre;overflow-x:auto;line-height:normal;font-family:Menlo,'DejaVu Sans Mono',consolas,'Courier New',monospace\"> Dogs\n",
              "\n",
              "Mexico is a land of vibrant colors, rich history, and incredibly diverse\n",
              "</pre>\n"
            ]
          },
          "metadata": {}
        },
        {
          "output_type": "display_data",
          "data": {
            "text/plain": [
              " wildlife. Today, we embark on a journey through its fascinating ecosystems, encountering some of the most unique \n",
              "creatures that call this land home.\n",
              "\n",
              "Our first stop takes\n"
            ],
            "text/html": [
              "<pre style=\"white-space:pre;overflow-x:auto;line-height:normal;font-family:Menlo,'DejaVu Sans Mono',consolas,'Courier New',monospace\"> wildlife. Today, we embark on a journey through its fascinating ecosystems, encountering some of the most unique \n",
              "creatures that call this land home.\n",
              "\n",
              "Our first stop takes\n",
              "</pre>\n"
            ]
          },
          "metadata": {}
        },
        {
          "output_type": "display_data",
          "data": {
            "text/plain": [
              " us to the heart of Mexico City, where the **axolotl** thrives in the Xochimilco canals. This extraordinary \n",
              "amphibian, resembling a tiny\n"
            ],
            "text/html": [
              "<pre style=\"white-space:pre;overflow-x:auto;line-height:normal;font-family:Menlo,'DejaVu Sans Mono',consolas,'Courier New',monospace\"> us to the heart of Mexico City, where the **axolotl** thrives in the Xochimilco canals. This extraordinary \n",
              "amphibian, resembling a tiny\n",
              "</pre>\n"
            ]
          },
          "metadata": {}
        },
        {
          "output_type": "display_data",
          "data": {
            "text/plain": [
              " dragon, possesses a remarkable ability to regenerate limbs, making it a subject of intense scientific interest. \n",
              "Its fascinating appearance and unique biology have earned it the title of \u001b[32m\"Mexican walking fish,\"\u001b[0m though it's \n",
              "actually a salamander!\n",
              "\n",
              "Venturing\n"
            ],
            "text/html": [
              "<pre style=\"white-space:pre;overflow-x:auto;line-height:normal;font-family:Menlo,'DejaVu Sans Mono',consolas,'Courier New',monospace\"> dragon, possesses a remarkable ability to regenerate limbs, making it a subject of intense scientific interest. \n",
              "Its fascinating appearance and unique biology have earned it the title of <span style=\"color: #008000; text-decoration-color: #008000\">\"Mexican walking fish,\"</span> though it's \n",
              "actually a salamander!\n",
              "\n",
              "Venturing\n",
              "</pre>\n"
            ]
          },
          "metadata": {}
        },
        {
          "output_type": "display_data",
          "data": {
            "text/plain": [
              " further, we find ourselves in the arid plains of northern Mexico, where the **prairie dog** reigns supreme. These \n",
              "social creatures, known for their high-pitched barks and intricate burrow systems, are a vital part of their \n",
              "ecosystem.  \n"
            ],
            "text/html": [
              "<pre style=\"white-space:pre;overflow-x:auto;line-height:normal;font-family:Menlo,'DejaVu Sans Mono',consolas,'Courier New',monospace\"> further, we find ourselves in the arid plains of northern Mexico, where the **prairie dog** reigns supreme. These \n",
              "social creatures, known for their high-pitched barks and intricate burrow systems, are a vital part of their \n",
              "ecosystem.  \n",
              "</pre>\n"
            ]
          },
          "metadata": {}
        },
        {
          "output_type": "display_data",
          "data": {
            "text/plain": [
              "Their tunnels help aerate the soil and create habitat for other species, highlighting their vital role in \n",
              "maintaining the delicate balance of the landscape.\n",
              "\n",
              "Next, we journey to the dry, open landscapes of Mexico's central plateau, home to the elusive **black-tailed \n",
              "jackrabbit**. This graceful creature, with its long ears\n"
            ],
            "text/html": [
              "<pre style=\"white-space:pre;overflow-x:auto;line-height:normal;font-family:Menlo,'DejaVu Sans Mono',consolas,'Courier New',monospace\">Their tunnels help aerate the soil and create habitat for other species, highlighting their vital role in \n",
              "maintaining the delicate balance of the landscape.\n",
              "\n",
              "Next, we journey to the dry, open landscapes of Mexico's central plateau, home to the elusive **black-tailed \n",
              "jackrabbit**. This graceful creature, with its long ears\n",
              "</pre>\n"
            ]
          },
          "metadata": {}
        },
        {
          "output_type": "display_data",
          "data": {
            "text/plain": [
              " and powerful legs, is a master of speed and agility, able to leap incredible distances as it escapes predators. \n",
              "Their remarkable adaptations to the harsh environment make them a symbol of resilience in the face of adversity.\n",
              "\n",
              "Finally, we venture into the rugged Sierra Madre mountains, where the **Mexican wolf** roams free.  \n"
            ],
            "text/html": [
              "<pre style=\"white-space:pre;overflow-x:auto;line-height:normal;font-family:Menlo,'DejaVu Sans Mono',consolas,'Courier New',monospace\"> and powerful legs, is a master of speed and agility, able to leap incredible distances as it escapes predators. \n",
              "Their remarkable adaptations to the harsh environment make them a symbol of resilience in the face of adversity.\n",
              "\n",
              "Finally, we venture into the rugged Sierra Madre mountains, where the **Mexican wolf** roams free.  \n",
              "</pre>\n"
            ]
          },
          "metadata": {}
        },
        {
          "output_type": "display_data",
          "data": {
            "text/plain": [
              "This endangered species, once widespread throughout the region, now faces the challenges of habitat loss and human \n",
              "encroachment.  Their majestic presence and vital role as apex predators serve as a reminder of the \n",
              "interconnectedness of all living things.\n",
              "\n",
              "From the fascinating axolotl to the agile black-tailed jackrabbit, Mexico's diverse\n"
            ],
            "text/html": [
              "<pre style=\"white-space:pre;overflow-x:auto;line-height:normal;font-family:Menlo,'DejaVu Sans Mono',consolas,'Courier New',monospace\">This endangered species, once widespread throughout the region, now faces the challenges of habitat loss and human \n",
              "encroachment.  Their majestic presence and vital role as apex predators serve as a reminder of the \n",
              "interconnectedness of all living things.\n",
              "\n",
              "From the fascinating axolotl to the agile black-tailed jackrabbit, Mexico's diverse\n",
              "</pre>\n"
            ]
          },
          "metadata": {}
        },
        {
          "output_type": "display_data",
          "data": {
            "text/plain": [
              " wildlife paints a vivid picture of the country's unique beauty and ecological importance. Each creature, from the \n",
              "smallest amphibian to the largest mammal, plays a vital role in the intricate web of life that sustains this \n",
              "vibrant land. \n",
              "\n"
            ],
            "text/html": [
              "<pre style=\"white-space:pre;overflow-x:auto;line-height:normal;font-family:Menlo,'DejaVu Sans Mono',consolas,'Courier New',monospace\"> wildlife paints a vivid picture of the country's unique beauty and ecological importance. Each creature, from the \n",
              "smallest amphibian to the largest mammal, plays a vital role in the intricate web of life that sustains this \n",
              "vibrant land. \n",
              "\n",
              "</pre>\n"
            ]
          },
          "metadata": {}
        }
      ]
    },
    {
      "cell_type": "code",
      "source": [
        "prompt = \"Return a bounding box for the Axolotl. \\n [ymin, xmin, ymax, xmax]\"\n",
        "response = model.generate_content([ref_image, prompt])\n",
        "\n",
        "print(response.text)"
      ],
      "metadata": {
        "colab": {
          "base_uri": "https://localhost:8080/",
          "height": 34
        },
        "id": "mfA0z7pHjEo_",
        "outputId": "0590369d-d3d1-4a98-87c0-c9f1573003e7"
      },
      "execution_count": 7,
      "outputs": [
        {
          "output_type": "stream",
          "name": "stdout",
          "text": [
            "The bounding box for the Axolotl is [61, 126, 412, 432].\n"
          ]
        }
      ]
    },
    {
      "cell_type": "markdown",
      "source": [
        "# Prompt with multiple images"
      ],
      "metadata": {
        "id": "TH8By985byPO"
      }
    },
    {
      "cell_type": "code",
      "source": [
        "!curl -o got.jpg https://storage.googleapis.com/questionsanswersproject/got.jpg\n",
        "!curl -o trump.jpeg https://storage.googleapis.com/questionsanswersproject/trump.jpeg"
      ],
      "metadata": {
        "colab": {
          "base_uri": "https://localhost:8080/"
        },
        "id": "qo08mSaYcy3u",
        "outputId": "6b0901f1-d653-4c39-b591-d4576a2598bc"
      },
      "execution_count": 8,
      "outputs": [
        {
          "output_type": "stream",
          "name": "stdout",
          "text": [
            "  % Total    % Received % Xferd  Average Speed   Time    Time     Time  Current\n",
            "                                 Dload  Upload   Total   Spent    Left  Speed\n",
            "100 67883  100 67883    0     0   368k      0 --:--:-- --:--:-- --:--:--  370k\n",
            "  % Total    % Received % Xferd  Average Speed   Time    Time     Time  Current\n",
            "                                 Dload  Upload   Total   Spent    Left  Speed\n",
            "100  157k  100  157k    0     0  1240k      0 --:--:-- --:--:-- --:--:-- 1246k\n"
          ]
        }
      ]
    },
    {
      "cell_type": "markdown",
      "source": [],
      "metadata": {
        "id": "oX7hbZa9eMGS"
      }
    },
    {
      "cell_type": "code",
      "source": [
        "model = genai.GenerativeModel('gemini-1.5-flash-001')\n",
        "ref_image_got = genai.upload_file(path=\"got.jpg\", display_name=\"got\")\n",
        "ref_image_trump = genai.upload_file(path=\"trump.jpeg\", display_name=\"trump\")\n",
        "\n",
        "prompt = [\"\"\"\n",
        "      image 1 <ref_image_got>\n",
        "      image 2 <ref_image_trump>\n",
        "      Create a funny story where combine images 1 and 2\n",
        "    \"\"\",\n",
        "    ref_image_got,\n",
        "    ref_image_trump]\n",
        "\n",
        "response = model.generate_content(prompt)\n",
        "console.print(response.text)"
      ],
      "metadata": {
        "colab": {
          "base_uri": "https://localhost:8080/",
          "height": 819
        },
        "id": "wWNqZUSebs3P",
        "outputId": "2fdbbc99-4ed1-485e-bcdd-409ba04baf26"
      },
      "execution_count": 12,
      "outputs": [
        {
          "output_type": "display_data",
          "data": {
            "text/plain": [
              "The Night King, ruler of the White Walkers and the Iron Throne, was facing a crisis. His armies were depleted, his \n",
              "resources dwindling, and his popularity was at an all-time low.  He needed a new strategy, a way to rally his \n",
              "troops and inspire fear in the hearts of his enemies.\n",
              "\n",
              "Then, a rogue raven arrived, bearing a strange, alien message: \u001b[32m\"Make America Great Again.\"\u001b[0m The message was \n",
              "accompanied by a grainy image of a man with an orange-hued complexion, a furrowed brow, and a strange affinity for \n",
              "hairspray. \n",
              "\n",
              "Intrigued, the Night King called for his advisors. \u001b[32m\"This man,\"\u001b[0m he rasped, \u001b[32m\"this... Trump, claims to be a master of \u001b[0m\n",
              "\u001b[32mstrategy. He has a vast network of followers, a loyal army, and a knack for manipulating the masses.\"\u001b[0m \n",
              "\n",
              "The advisors, having never heard of \u001b[32m\"strategy\"\u001b[0m or \u001b[32m\"manipulating the masses,\"\u001b[0m exchanged nervous glances. \n",
              "\n",
              "\u001b[32m\"Perhaps,\"\u001b[0m said the Night King, \u001b[32m\"we can learn from this Trump. He is said to be a master of \"\u001b[0mwinning.\u001b[32m\" Maybe, just \u001b[0m\n",
              "\u001b[32mmaybe, he can teach us how to win the Great War.\"\u001b[0m\n",
              "\n",
              "Thus began an unlikely alliance. The Night King, a fearsome warrior of ice and darkness, sent his most trusted \n",
              "lieutenant, the Night King's right-hand man, a pale figure with a melancholic air and a strong desire to be known \n",
              "as \u001b[32m\"the one who finally killed that annoying red-headed guy,\"\u001b[0m to meet with Trump. \n",
              "\n",
              "The lieutenant, who had been told to call himself \u001b[32m\"the King's Shadow,\"\u001b[0m arrived at Trump Tower, unsure what to \n",
              "expect. He was greeted by a swarm of suits, a cacophony of voices, and a potent odor of hairspray.  \n",
              "\n",
              "After a brief meeting, the King's Shadow found himself in a room with Trump, staring at a giant TV screen. Trump, \n",
              "gesturing wildly, was ranting about a trade deal with the dragons. \n",
              "\n",
              "\u001b[32m\"You need to get tough,\"\u001b[0m Trump declared, \u001b[32m\"build a wall, a big, beautiful wall! And, most importantly, make sure you\u001b[0m\n",
              "\u001b[32mwin! You can't lose!  You have to be the best!\"\u001b[0m\n",
              "\n",
              "The King's Shadow, accustomed to silent commands and strategies based on brute force, was utterly bewildered. But \n",
              "he listened intently, absorbing Trump's unorthodox teachings. \n",
              "\n",
              "Trump, meanwhile, was oblivious to the King's Shadow's true nature. He saw him as a potential ally, a powerful \n",
              "force he could use to further his own agenda. \n",
              "\n",
              "And so, the Night King, under the guidance of Trump's strategic brilliance, began to transform his army. They \n",
              "adopted Trump's slogans, replacing the chilling roar of the White Walkers with a chant of \u001b[32m\"Make Winter Great \u001b[0m\n",
              "\u001b[32mAgain.\"\u001b[0m  They started building a wall, a massive, ice-covered barrier designed to keep the living out. And most \n",
              "importantly, they learned to embrace the power of propaganda, spreading fear and disinformation with unprecedented \n",
              "speed. \n",
              "\n",
              "The living, bewildered by the White Walkers' newfound fervor, began to doubt their own strength.  They had been so \n",
              "focused on defeating the Night King, they had forgotten how to win.\n",
              "\n",
              "In the end, the Night King, armed with Trump's unique brand of \u001b[32m\"strategy,\"\u001b[0m was unstoppable.  He crushed the living,\n",
              "built a wall around the whole world, and declared himself the rightful ruler of winter, an icy tyrant with a deep \n",
              "understanding of the power of a good slogan.  The Night King, with a smirk of triumph, sat on his throne, the iron \n",
              "throne, and proclaimed: \u001b[32m\"Winter is here, and it's going to be great again!\"\u001b[0m \n",
              "\n"
            ],
            "text/html": [
              "<pre style=\"white-space:pre;overflow-x:auto;line-height:normal;font-family:Menlo,'DejaVu Sans Mono',consolas,'Courier New',monospace\">The Night King, ruler of the White Walkers and the Iron Throne, was facing a crisis. His armies were depleted, his \n",
              "resources dwindling, and his popularity was at an all-time low.  He needed a new strategy, a way to rally his \n",
              "troops and inspire fear in the hearts of his enemies.\n",
              "\n",
              "Then, a rogue raven arrived, bearing a strange, alien message: <span style=\"color: #008000; text-decoration-color: #008000\">\"Make America Great Again.\"</span> The message was \n",
              "accompanied by a grainy image of a man with an orange-hued complexion, a furrowed brow, and a strange affinity for \n",
              "hairspray. \n",
              "\n",
              "Intrigued, the Night King called for his advisors. <span style=\"color: #008000; text-decoration-color: #008000\">\"This man,\"</span> he rasped, <span style=\"color: #008000; text-decoration-color: #008000\">\"this... Trump, claims to be a master of </span>\n",
              "<span style=\"color: #008000; text-decoration-color: #008000\">strategy. He has a vast network of followers, a loyal army, and a knack for manipulating the masses.\"</span> \n",
              "\n",
              "The advisors, having never heard of <span style=\"color: #008000; text-decoration-color: #008000\">\"strategy\"</span> or <span style=\"color: #008000; text-decoration-color: #008000\">\"manipulating the masses,\"</span> exchanged nervous glances. \n",
              "\n",
              "<span style=\"color: #008000; text-decoration-color: #008000\">\"Perhaps,\"</span> said the Night King, <span style=\"color: #008000; text-decoration-color: #008000\">\"we can learn from this Trump. He is said to be a master of \"</span>winning.<span style=\"color: #008000; text-decoration-color: #008000\">\" Maybe, just </span>\n",
              "<span style=\"color: #008000; text-decoration-color: #008000\">maybe, he can teach us how to win the Great War.\"</span>\n",
              "\n",
              "Thus began an unlikely alliance. The Night King, a fearsome warrior of ice and darkness, sent his most trusted \n",
              "lieutenant, the Night King's right-hand man, a pale figure with a melancholic air and a strong desire to be known \n",
              "as <span style=\"color: #008000; text-decoration-color: #008000\">\"the one who finally killed that annoying red-headed guy,\"</span> to meet with Trump. \n",
              "\n",
              "The lieutenant, who had been told to call himself <span style=\"color: #008000; text-decoration-color: #008000\">\"the King's Shadow,\"</span> arrived at Trump Tower, unsure what to \n",
              "expect. He was greeted by a swarm of suits, a cacophony of voices, and a potent odor of hairspray.  \n",
              "\n",
              "After a brief meeting, the King's Shadow found himself in a room with Trump, staring at a giant TV screen. Trump, \n",
              "gesturing wildly, was ranting about a trade deal with the dragons. \n",
              "\n",
              "<span style=\"color: #008000; text-decoration-color: #008000\">\"You need to get tough,\"</span> Trump declared, <span style=\"color: #008000; text-decoration-color: #008000\">\"build a wall, a big, beautiful wall! And, most importantly, make sure you</span>\n",
              "<span style=\"color: #008000; text-decoration-color: #008000\">win! You can't lose!  You have to be the best!\"</span>\n",
              "\n",
              "The King's Shadow, accustomed to silent commands and strategies based on brute force, was utterly bewildered. But \n",
              "he listened intently, absorbing Trump's unorthodox teachings. \n",
              "\n",
              "Trump, meanwhile, was oblivious to the King's Shadow's true nature. He saw him as a potential ally, a powerful \n",
              "force he could use to further his own agenda. \n",
              "\n",
              "And so, the Night King, under the guidance of Trump's strategic brilliance, began to transform his army. They \n",
              "adopted Trump's slogans, replacing the chilling roar of the White Walkers with a chant of <span style=\"color: #008000; text-decoration-color: #008000\">\"Make Winter Great </span>\n",
              "<span style=\"color: #008000; text-decoration-color: #008000\">Again.\"</span>  They started building a wall, a massive, ice-covered barrier designed to keep the living out. And most \n",
              "importantly, they learned to embrace the power of propaganda, spreading fear and disinformation with unprecedented \n",
              "speed. \n",
              "\n",
              "The living, bewildered by the White Walkers' newfound fervor, began to doubt their own strength.  They had been so \n",
              "focused on defeating the Night King, they had forgotten how to win.\n",
              "\n",
              "In the end, the Night King, armed with Trump's unique brand of <span style=\"color: #008000; text-decoration-color: #008000\">\"strategy,\"</span> was unstoppable.  He crushed the living,\n",
              "built a wall around the whole world, and declared himself the rightful ruler of winter, an icy tyrant with a deep \n",
              "understanding of the power of a good slogan.  The Night King, with a smirk of triumph, sat on his throne, the iron \n",
              "throne, and proclaimed: <span style=\"color: #008000; text-decoration-color: #008000\">\"Winter is here, and it's going to be great again!\"</span> \n",
              "\n",
              "</pre>\n"
            ]
          },
          "metadata": {}
        }
      ]
    },
    {
      "cell_type": "markdown",
      "source": [
        "# Prompting with video"
      ],
      "metadata": {
        "id": "RrVs2224DPbD"
      }
    },
    {
      "cell_type": "markdown",
      "source": [
        "Video must be in one of the following video format MIME types:\n",
        "\n",
        "*  video/mp4\n",
        "*  video/mpeg\n",
        "*  video/mov\n",
        "*  video/avi\n",
        "*  video/x-flv\n",
        "*  video/mpg\n",
        "*  video/webm\n",
        "*  video/wmv\n",
        "*  video/3gpp\n",
        "\n",
        "The File API service extracts image frames from videos at 1 frame per second (FPS) and audio at 1Kbps, single channel, adding timestamps every second\n",
        "\n",
        "Individual frames are 258 tokens, and audio is 32 tokens per second"
      ],
      "metadata": {
        "id": "o0MDBIVTDTKl"
      }
    },
    {
      "cell_type": "code",
      "source": [
        "!wget https://storage.googleapis.com/questionsanswersproject/simpsons-first-episode.mp4"
      ],
      "metadata": {
        "colab": {
          "base_uri": "https://localhost:8080/"
        },
        "id": "dP2-Mj_HDO0i",
        "outputId": "2d20adf5-53a5-4a16-a4a9-c6e0efe18fa0"
      },
      "execution_count": 13,
      "outputs": [
        {
          "output_type": "stream",
          "name": "stdout",
          "text": [
            "--2024-07-26 04:04:53--  https://storage.googleapis.com/questionsanswersproject/simpsons-first-episode.mp4\n",
            "Resolving storage.googleapis.com (storage.googleapis.com)... 64.233.181.207, 173.194.206.207, 173.194.193.207, ...\n",
            "Connecting to storage.googleapis.com (storage.googleapis.com)|64.233.181.207|:443... connected.\n",
            "HTTP request sent, awaiting response... 200 OK\n",
            "Length: 4205052 (4.0M) [video/mp4]\n",
            "Saving to: ‘simpsons-first-episode.mp4’\n",
            "\n",
            "simpsons-first-epis 100%[===================>]   4.01M  --.-KB/s    in 0.05s   \n",
            "\n",
            "2024-07-26 04:04:53 (75.4 MB/s) - ‘simpsons-first-episode.mp4’ saved [4205052/4205052]\n",
            "\n"
          ]
        }
      ]
    },
    {
      "cell_type": "code",
      "source": [
        "import time\n",
        "\n",
        "ref_video = genai.upload_file(path=\"simpsons-first-episode.mp4\", display_name=\"simpsons-first-episode\")\n",
        "\n",
        "# Check whether the file is ready to be used.\n",
        "while ref_video.state.name == \"PROCESSING\":\n",
        "    print('.', end='')\n",
        "    time.sleep(1)\n",
        "    ref_video = genai.get_file(ref_video.name)\n",
        "\n",
        "if ref_video.state.name == \"FAILED\":\n",
        "  raise ValueError(ref_video.state.name)\n",
        "\n",
        "console.print(f\"{ref_video=}\")"
      ],
      "metadata": {
        "colab": {
          "base_uri": "https://localhost:8080/",
          "height": 231
        },
        "id": "D9OSOYBDJJam",
        "outputId": "8f46a846-33d7-4bca-fbc7-eced1bd2b4f1"
      },
      "execution_count": 14,
      "outputs": [
        {
          "output_type": "stream",
          "name": "stdout",
          "text": [
            ".."
          ]
        },
        {
          "output_type": "display_data",
          "data": {
            "text/plain": [
              "\u001b[33mref_video\u001b[0m=\u001b[1;35mgenai\u001b[0m\u001b[1;35m.File\u001b[0m\u001b[1m(\u001b[0m\u001b[1m{\u001b[0m\n",
              "    \u001b[32m'name'\u001b[0m: \u001b[32m'files/9iz811oiopiu'\u001b[0m,\n",
              "    \u001b[32m'display_name'\u001b[0m: \u001b[32m'simpsons-first-episode'\u001b[0m,\n",
              "    \u001b[32m'mime_type'\u001b[0m: \u001b[32m'video/mp4'\u001b[0m,\n",
              "    \u001b[32m'sha256_hash'\u001b[0m: \u001b[32m'M2ZhN2VmOWQyMmU4MDA1M2ZiOTcxZTIxMjhm\u001b[0m\u001b[32mYTg0NDZhNTVlZTg1YmY0OGZkZWIyNWNjYWY5OTUwNzU0NmM0Nw\u001b[0m\u001b[32m=='\u001b[0m,\n",
              "    \u001b[32m'size_bytes'\u001b[0m: \u001b[32m'4205052'\u001b[0m,\n",
              "    \u001b[32m'state'\u001b[0m: \u001b[32m'ACTIVE'\u001b[0m,\n",
              "    \u001b[32m'uri'\u001b[0m: \u001b[32m'https://generativelanguage.googleapis.com/v1beta/files/9iz811oiopiu'\u001b[0m,\n",
              "    \u001b[32m'video_metadata'\u001b[0m: \u001b[1m{\u001b[0m\u001b[32m'video_duration'\u001b[0m: \u001b[32m'108s'\u001b[0m\u001b[1m}\u001b[0m,\n",
              "    \u001b[32m'create_time'\u001b[0m: \u001b[32m'2024-07-26T04:04:57.835273Z'\u001b[0m,\n",
              "    \u001b[32m'expiration_time'\u001b[0m: \u001b[32m'2024-07-28T04:04:57.829061186Z'\u001b[0m,\n",
              "    \u001b[32m'update_time'\u001b[0m: \u001b[32m'2024-07-26T04:05:00.254851Z'\u001b[0m\u001b[1m}\u001b[0m\u001b[1m)\u001b[0m\n"
            ],
            "text/html": [
              "<pre style=\"white-space:pre;overflow-x:auto;line-height:normal;font-family:Menlo,'DejaVu Sans Mono',consolas,'Courier New',monospace\"><span style=\"color: #808000; text-decoration-color: #808000\">ref_video</span>=<span style=\"color: #800080; text-decoration-color: #800080; font-weight: bold\">genai</span><span style=\"color: #800080; text-decoration-color: #800080; font-weight: bold\">.File</span><span style=\"font-weight: bold\">({</span>\n",
              "    <span style=\"color: #008000; text-decoration-color: #008000\">'name'</span>: <span style=\"color: #008000; text-decoration-color: #008000\">'files/9iz811oiopiu'</span>,\n",
              "    <span style=\"color: #008000; text-decoration-color: #008000\">'display_name'</span>: <span style=\"color: #008000; text-decoration-color: #008000\">'simpsons-first-episode'</span>,\n",
              "    <span style=\"color: #008000; text-decoration-color: #008000\">'mime_type'</span>: <span style=\"color: #008000; text-decoration-color: #008000\">'video/mp4'</span>,\n",
              "    <span style=\"color: #008000; text-decoration-color: #008000\">'sha256_hash'</span>: <span style=\"color: #008000; text-decoration-color: #008000\">'M2ZhN2VmOWQyMmU4MDA1M2ZiOTcxZTIxMjhmYTg0NDZhNTVlZTg1YmY0OGZkZWIyNWNjYWY5OTUwNzU0NmM0Nw=='</span>,\n",
              "    <span style=\"color: #008000; text-decoration-color: #008000\">'size_bytes'</span>: <span style=\"color: #008000; text-decoration-color: #008000\">'4205052'</span>,\n",
              "    <span style=\"color: #008000; text-decoration-color: #008000\">'state'</span>: <span style=\"color: #008000; text-decoration-color: #008000\">'ACTIVE'</span>,\n",
              "    <span style=\"color: #008000; text-decoration-color: #008000\">'uri'</span>: <span style=\"color: #008000; text-decoration-color: #008000\">'https://generativelanguage.googleapis.com/v1beta/files/9iz811oiopiu'</span>,\n",
              "    <span style=\"color: #008000; text-decoration-color: #008000\">'video_metadata'</span>: <span style=\"font-weight: bold\">{</span><span style=\"color: #008000; text-decoration-color: #008000\">'video_duration'</span>: <span style=\"color: #008000; text-decoration-color: #008000\">'108s'</span><span style=\"font-weight: bold\">}</span>,\n",
              "    <span style=\"color: #008000; text-decoration-color: #008000\">'create_time'</span>: <span style=\"color: #008000; text-decoration-color: #008000\">'2024-07-26T04:04:57.835273Z'</span>,\n",
              "    <span style=\"color: #008000; text-decoration-color: #008000\">'expiration_time'</span>: <span style=\"color: #008000; text-decoration-color: #008000\">'2024-07-28T04:04:57.829061186Z'</span>,\n",
              "    <span style=\"color: #008000; text-decoration-color: #008000\">'update_time'</span>: <span style=\"color: #008000; text-decoration-color: #008000\">'2024-07-26T04:05:00.254851Z'</span><span style=\"font-weight: bold\">})</span>\n",
              "</pre>\n"
            ]
          },
          "metadata": {}
        }
      ]
    },
    {
      "cell_type": "code",
      "source": [
        "prompt = \"Identify the characters in the video\"\n",
        "model = genai.GenerativeModel('gemini-1.5-flash-001')\n",
        "response = model.generate_content([ref_video, prompt])\n",
        "console.print(response.text)"
      ],
      "metadata": {
        "colab": {
          "base_uri": "https://localhost:8080/",
          "height": 50
        },
        "id": "BGz0MuyrMj5w",
        "outputId": "d85d0d69-b394-477e-fbf2-42751e84cf68"
      },
      "execution_count": 15,
      "outputs": [
        {
          "output_type": "display_data",
          "data": {
            "text/plain": [
              "The characters in the video are Homer Simpson, Marge Simpson, Bart Simpson, and Maggie Simpson. \n",
              "\n"
            ],
            "text/html": [
              "<pre style=\"white-space:pre;overflow-x:auto;line-height:normal;font-family:Menlo,'DejaVu Sans Mono',consolas,'Courier New',monospace\">The characters in the video are Homer Simpson, Marge Simpson, Bart Simpson, and Maggie Simpson. \n",
              "\n",
              "</pre>\n"
            ]
          },
          "metadata": {}
        }
      ]
    },
    {
      "cell_type": "code",
      "source": [
        "prompt = \"What are between 01:05 and 01:19\"\n",
        "model = genai.GenerativeModel(model_name=\"gemini-1.5-pro\")\n",
        "response = model.generate_content([ref_video, prompt],\n",
        "                                  request_options={\"timeout\": 600})\n",
        "print(response.text)"
      ],
      "metadata": {
        "colab": {
          "base_uri": "https://localhost:8080/",
          "height": 34
        },
        "id": "IQPApedgN-wg",
        "outputId": "8c5c0d3a-3847-4c50-a9ac-709f702048fa"
      },
      "execution_count": 17,
      "outputs": [
        {
          "output_type": "stream",
          "name": "stdout",
          "text": [
            "The scene is dark between 01:05 and 01:09, and there are four pairs of eyes blinking in the dark between 01:14 and 01:19. \n"
          ]
        }
      ]
    },
    {
      "cell_type": "code",
      "source": [
        "prompt = \"Transcribe video from 00:05 until 00:30\"\n",
        "model = genai.GenerativeModel(model_name=\"gemini-1.5-pro\")\n",
        "response = model.generate_content([ref_video, prompt],\n",
        "                                  request_options={\"timeout\": 600})\n",
        "print(response.text)"
      ],
      "metadata": {
        "colab": {
          "base_uri": "https://localhost:8080/",
          "height": 347
        },
        "id": "-vt9d2rUO08h",
        "outputId": "1537ecfd-bf61-49e6-ea38-4349116e0361"
      },
      "execution_count": 19,
      "outputs": [
        {
          "output_type": "stream",
          "name": "stdout",
          "text": [
            "0:05 Um, Dad? Yeah?\n",
            "0:06 What is the mind? Is it just a system of impulses or is it something tangible?\n",
            "0:13 Relax.\n",
            "0:14 What is mind? No matter.\n",
            "0:17 What is matter? Never mind.\n",
            "0:20 Thanks, Dad.\n",
            "0:22 Good night, son.\n",
            "0:26 Good night, Lisa.\n",
            "0:28 Good night, Mom.\n",
            "0:29 Sweet dreams.\n",
            "0:31 Thanks, Mom. Sleep tight.\n",
            "0:34 I will, Mom. Don't let the bedbugs bite.\n",
            "0:40 Bedbugs?\n",
            "0:43 Rock a bye baby, in the tree top.\n",
            "0:48 When the wind blows, the cradle will rock.\n",
            "0:55 When the bough breaks, the cradle will fall.\n",
            "1:01 And down will come baby cradle and all.\n",
            "1:09 Sweet dreams. \n",
            "\n"
          ]
        }
      ]
    }
  ]
}