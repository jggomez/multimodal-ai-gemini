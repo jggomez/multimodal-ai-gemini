{
  "nbformat": 4,
  "nbformat_minor": 0,
  "metadata": {
    "colab": {
      "provenance": []
    },
    "kernelspec": {
      "name": "python3",
      "display_name": "Python 3"
    },
    "language_info": {
      "name": "python"
    }
  },
  "cells": [
    {
      "cell_type": "markdown",
      "source": [
        "# Gemini API with Audios"
      ],
      "metadata": {
        "id": "hyxlb9fOTayn"
      }
    },
    {
      "cell_type": "code",
      "source": [
        "!pip install google-cloud-aiplatform\n",
        "!pip install rich"
      ],
      "metadata": {
        "colab": {
          "base_uri": "https://localhost:8080/"
        },
        "collapsed": true,
        "id": "XCzrwskAUyLq",
        "outputId": "50e29846-79b3-4ffd-93a1-a625dfeb28b8"
      },
      "execution_count": null,
      "outputs": [
        {
          "output_type": "stream",
          "name": "stdout",
          "text": [
            "Requirement already satisfied: google-cloud-aiplatform in /usr/local/lib/python3.10/dist-packages (1.59.0)\n",
            "Requirement already satisfied: google-api-core!=2.0.*,!=2.1.*,!=2.2.*,!=2.3.*,!=2.4.*,!=2.5.*,!=2.6.*,!=2.7.*,<3.0.0dev,>=1.34.1 in /usr/local/lib/python3.10/dist-packages (from google-api-core[grpc]!=2.0.*,!=2.1.*,!=2.2.*,!=2.3.*,!=2.4.*,!=2.5.*,!=2.6.*,!=2.7.*,<3.0.0dev,>=1.34.1->google-cloud-aiplatform) (2.19.1)\n",
            "Requirement already satisfied: google-auth<3.0.0dev,>=2.14.1 in /usr/local/lib/python3.10/dist-packages (from google-cloud-aiplatform) (2.27.0)\n",
            "Requirement already satisfied: proto-plus<2.0.0dev,>=1.22.3 in /usr/local/lib/python3.10/dist-packages (from google-cloud-aiplatform) (1.24.0)\n",
            "Requirement already satisfied: protobuf!=3.20.0,!=3.20.1,!=4.21.0,!=4.21.1,!=4.21.2,!=4.21.3,!=4.21.4,!=4.21.5,<5.0.0dev,>=3.19.5 in /usr/local/lib/python3.10/dist-packages (from google-cloud-aiplatform) (3.20.3)\n",
            "Requirement already satisfied: packaging>=14.3 in /usr/local/lib/python3.10/dist-packages (from google-cloud-aiplatform) (24.1)\n",
            "Requirement already satisfied: google-cloud-storage<3.0.0dev,>=1.32.0 in /usr/local/lib/python3.10/dist-packages (from google-cloud-aiplatform) (2.8.0)\n",
            "Requirement already satisfied: google-cloud-bigquery!=3.20.0,<4.0.0dev,>=1.15.0 in /usr/local/lib/python3.10/dist-packages (from google-cloud-aiplatform) (3.25.0)\n",
            "Requirement already satisfied: google-cloud-resource-manager<3.0.0dev,>=1.3.3 in /usr/local/lib/python3.10/dist-packages (from google-cloud-aiplatform) (1.12.4)\n",
            "Requirement already satisfied: shapely<3.0.0dev in /usr/local/lib/python3.10/dist-packages (from google-cloud-aiplatform) (2.0.5)\n",
            "Requirement already satisfied: pydantic<3 in /usr/local/lib/python3.10/dist-packages (from google-cloud-aiplatform) (2.8.2)\n",
            "Requirement already satisfied: docstring-parser<1 in /usr/local/lib/python3.10/dist-packages (from google-cloud-aiplatform) (0.16)\n",
            "Requirement already satisfied: googleapis-common-protos<2.0.dev0,>=1.56.2 in /usr/local/lib/python3.10/dist-packages (from google-api-core!=2.0.*,!=2.1.*,!=2.2.*,!=2.3.*,!=2.4.*,!=2.5.*,!=2.6.*,!=2.7.*,<3.0.0dev,>=1.34.1->google-api-core[grpc]!=2.0.*,!=2.1.*,!=2.2.*,!=2.3.*,!=2.4.*,!=2.5.*,!=2.6.*,!=2.7.*,<3.0.0dev,>=1.34.1->google-cloud-aiplatform) (1.63.2)\n",
            "Requirement already satisfied: requests<3.0.0.dev0,>=2.18.0 in /usr/local/lib/python3.10/dist-packages (from google-api-core!=2.0.*,!=2.1.*,!=2.2.*,!=2.3.*,!=2.4.*,!=2.5.*,!=2.6.*,!=2.7.*,<3.0.0dev,>=1.34.1->google-api-core[grpc]!=2.0.*,!=2.1.*,!=2.2.*,!=2.3.*,!=2.4.*,!=2.5.*,!=2.6.*,!=2.7.*,<3.0.0dev,>=1.34.1->google-cloud-aiplatform) (2.31.0)\n",
            "Requirement already satisfied: grpcio<2.0dev,>=1.33.2 in /usr/local/lib/python3.10/dist-packages (from google-api-core[grpc]!=2.0.*,!=2.1.*,!=2.2.*,!=2.3.*,!=2.4.*,!=2.5.*,!=2.6.*,!=2.7.*,<3.0.0dev,>=1.34.1->google-cloud-aiplatform) (1.64.1)\n",
            "Requirement already satisfied: grpcio-status<2.0.dev0,>=1.33.2 in /usr/local/lib/python3.10/dist-packages (from google-api-core[grpc]!=2.0.*,!=2.1.*,!=2.2.*,!=2.3.*,!=2.4.*,!=2.5.*,!=2.6.*,!=2.7.*,<3.0.0dev,>=1.34.1->google-cloud-aiplatform) (1.48.2)\n",
            "Requirement already satisfied: cachetools<6.0,>=2.0.0 in /usr/local/lib/python3.10/dist-packages (from google-auth<3.0.0dev,>=2.14.1->google-cloud-aiplatform) (5.4.0)\n",
            "Requirement already satisfied: pyasn1-modules>=0.2.1 in /usr/local/lib/python3.10/dist-packages (from google-auth<3.0.0dev,>=2.14.1->google-cloud-aiplatform) (0.4.0)\n",
            "Requirement already satisfied: rsa<5,>=3.1.4 in /usr/local/lib/python3.10/dist-packages (from google-auth<3.0.0dev,>=2.14.1->google-cloud-aiplatform) (4.9)\n",
            "Requirement already satisfied: google-cloud-core<3.0.0dev,>=1.6.0 in /usr/local/lib/python3.10/dist-packages (from google-cloud-bigquery!=3.20.0,<4.0.0dev,>=1.15.0->google-cloud-aiplatform) (2.4.1)\n",
            "Requirement already satisfied: google-resumable-media<3.0dev,>=0.6.0 in /usr/local/lib/python3.10/dist-packages (from google-cloud-bigquery!=3.20.0,<4.0.0dev,>=1.15.0->google-cloud-aiplatform) (2.7.1)\n",
            "Requirement already satisfied: python-dateutil<3.0dev,>=2.7.2 in /usr/local/lib/python3.10/dist-packages (from google-cloud-bigquery!=3.20.0,<4.0.0dev,>=1.15.0->google-cloud-aiplatform) (2.8.2)\n",
            "Requirement already satisfied: grpc-google-iam-v1<1.0.0dev,>=0.12.4 in /usr/local/lib/python3.10/dist-packages (from google-cloud-resource-manager<3.0.0dev,>=1.3.3->google-cloud-aiplatform) (0.13.1)\n",
            "Requirement already satisfied: annotated-types>=0.4.0 in /usr/local/lib/python3.10/dist-packages (from pydantic<3->google-cloud-aiplatform) (0.7.0)\n",
            "Requirement already satisfied: pydantic-core==2.20.1 in /usr/local/lib/python3.10/dist-packages (from pydantic<3->google-cloud-aiplatform) (2.20.1)\n",
            "Requirement already satisfied: typing-extensions>=4.6.1 in /usr/local/lib/python3.10/dist-packages (from pydantic<3->google-cloud-aiplatform) (4.12.2)\n",
            "Requirement already satisfied: numpy<3,>=1.14 in /usr/local/lib/python3.10/dist-packages (from shapely<3.0.0dev->google-cloud-aiplatform) (1.25.2)\n",
            "Requirement already satisfied: google-crc32c<2.0dev,>=1.0 in /usr/local/lib/python3.10/dist-packages (from google-resumable-media<3.0dev,>=0.6.0->google-cloud-bigquery!=3.20.0,<4.0.0dev,>=1.15.0->google-cloud-aiplatform) (1.5.0)\n",
            "Requirement already satisfied: pyasn1<0.7.0,>=0.4.6 in /usr/local/lib/python3.10/dist-packages (from pyasn1-modules>=0.2.1->google-auth<3.0.0dev,>=2.14.1->google-cloud-aiplatform) (0.6.0)\n",
            "Requirement already satisfied: six>=1.5 in /usr/local/lib/python3.10/dist-packages (from python-dateutil<3.0dev,>=2.7.2->google-cloud-bigquery!=3.20.0,<4.0.0dev,>=1.15.0->google-cloud-aiplatform) (1.16.0)\n",
            "Requirement already satisfied: charset-normalizer<4,>=2 in /usr/local/lib/python3.10/dist-packages (from requests<3.0.0.dev0,>=2.18.0->google-api-core!=2.0.*,!=2.1.*,!=2.2.*,!=2.3.*,!=2.4.*,!=2.5.*,!=2.6.*,!=2.7.*,<3.0.0dev,>=1.34.1->google-api-core[grpc]!=2.0.*,!=2.1.*,!=2.2.*,!=2.3.*,!=2.4.*,!=2.5.*,!=2.6.*,!=2.7.*,<3.0.0dev,>=1.34.1->google-cloud-aiplatform) (3.3.2)\n",
            "Requirement already satisfied: idna<4,>=2.5 in /usr/local/lib/python3.10/dist-packages (from requests<3.0.0.dev0,>=2.18.0->google-api-core!=2.0.*,!=2.1.*,!=2.2.*,!=2.3.*,!=2.4.*,!=2.5.*,!=2.6.*,!=2.7.*,<3.0.0dev,>=1.34.1->google-api-core[grpc]!=2.0.*,!=2.1.*,!=2.2.*,!=2.3.*,!=2.4.*,!=2.5.*,!=2.6.*,!=2.7.*,<3.0.0dev,>=1.34.1->google-cloud-aiplatform) (3.7)\n",
            "Requirement already satisfied: urllib3<3,>=1.21.1 in /usr/local/lib/python3.10/dist-packages (from requests<3.0.0.dev0,>=2.18.0->google-api-core!=2.0.*,!=2.1.*,!=2.2.*,!=2.3.*,!=2.4.*,!=2.5.*,!=2.6.*,!=2.7.*,<3.0.0dev,>=1.34.1->google-api-core[grpc]!=2.0.*,!=2.1.*,!=2.2.*,!=2.3.*,!=2.4.*,!=2.5.*,!=2.6.*,!=2.7.*,<3.0.0dev,>=1.34.1->google-cloud-aiplatform) (2.0.7)\n",
            "Requirement already satisfied: certifi>=2017.4.17 in /usr/local/lib/python3.10/dist-packages (from requests<3.0.0.dev0,>=2.18.0->google-api-core!=2.0.*,!=2.1.*,!=2.2.*,!=2.3.*,!=2.4.*,!=2.5.*,!=2.6.*,!=2.7.*,<3.0.0dev,>=1.34.1->google-api-core[grpc]!=2.0.*,!=2.1.*,!=2.2.*,!=2.3.*,!=2.4.*,!=2.5.*,!=2.6.*,!=2.7.*,<3.0.0dev,>=1.34.1->google-cloud-aiplatform) (2024.7.4)\n",
            "Requirement already satisfied: rich in /usr/local/lib/python3.10/dist-packages (13.7.1)\n",
            "Requirement already satisfied: markdown-it-py>=2.2.0 in /usr/local/lib/python3.10/dist-packages (from rich) (3.0.0)\n",
            "Requirement already satisfied: pygments<3.0.0,>=2.13.0 in /usr/local/lib/python3.10/dist-packages (from rich) (2.16.1)\n",
            "Requirement already satisfied: mdurl~=0.1 in /usr/local/lib/python3.10/dist-packages (from markdown-it-py>=2.2.0->rich) (0.1.2)\n"
          ]
        }
      ]
    },
    {
      "cell_type": "code",
      "execution_count": null,
      "metadata": {
        "id": "yuMVOnnPDm75"
      },
      "outputs": [],
      "source": [
        "from google.colab import userdata\n",
        "GOOGLE_API_KEY = userdata.get('GOOGLE_API_KEY')\n",
        "\n",
        "import google.generativeai as genai\n",
        "genai.configure(api_key=GOOGLE_API_KEY)\n",
        "\n",
        "from rich.console import Console\n",
        "console = Console()"
      ]
    },
    {
      "cell_type": "markdown",
      "source": [
        "Gemini supports the following audio format MIME types:\n",
        "\n",
        "* WAV - audio/wav\n",
        "* MP3 - audio/mp3\n",
        "* AIFF - audio/aiff\n",
        "* AAC - audio/aac\n",
        "* OGG Vorbis - audio/ogg\n",
        "* FLAC - audio/flac"
      ],
      "metadata": {
        "id": "r6wLG-hFVFVa"
      }
    },
    {
      "cell_type": "markdown",
      "source": [],
      "metadata": {
        "id": "NUSN7u9yYZ-Z"
      }
    },
    {
      "cell_type": "code",
      "source": [
        "!curl -o comida_colombia.mp3 https://storage.googleapis.com/questionsanswersproject/comida_colombia.mp3"
      ],
      "metadata": {
        "colab": {
          "base_uri": "https://localhost:8080/"
        },
        "id": "Y6Wq_ECQYbCV",
        "outputId": "dcf647c5-1aee-4024-9246-22e35936bcd1"
      },
      "execution_count": null,
      "outputs": [
        {
          "output_type": "stream",
          "name": "stdout",
          "text": [
            "  % Total    % Received % Xferd  Average Speed   Time    Time     Time  Current\n",
            "                                 Dload  Upload   Total   Spent    Left  Speed\n",
            "100 10.7M  100 10.7M    0     0  5689k      0  0:00:01  0:00:01 --:--:-- 5688k\n"
          ]
        }
      ]
    },
    {
      "cell_type": "code",
      "source": [
        "ref_audio = genai.upload_file(path=\"comida_colombia.mp3\", display_name=\"comida_colombia\")\n",
        "console.print(f\"{ref_audio=}\")"
      ],
      "metadata": {
        "colab": {
          "base_uri": "https://localhost:8080/",
          "height": 197
        },
        "id": "tS57Wao_VGwM",
        "outputId": "f6152e2b-7eeb-4df6-8ff3-d66c1ccb85c1"
      },
      "execution_count": null,
      "outputs": [
        {
          "output_type": "display_data",
          "data": {
            "text/plain": [
              "\u001b[33mref_audio\u001b[0m=\u001b[1;35mgenai\u001b[0m\u001b[1;35m.File\u001b[0m\u001b[1m(\u001b[0m\u001b[1m{\u001b[0m\n",
              "    \u001b[32m'name'\u001b[0m: \u001b[32m'files/d8wggvsw7j8z'\u001b[0m,\n",
              "    \u001b[32m'display_name'\u001b[0m: \u001b[32m'comida_colombia'\u001b[0m,\n",
              "    \u001b[32m'mime_type'\u001b[0m: \u001b[32m'audio/mpeg'\u001b[0m,\n",
              "    \u001b[32m'sha256_hash'\u001b[0m: \u001b[32m'NDFhMDMzMmQzNWZjZGI3Yzc1MmRkOTM2OWIx\u001b[0m\u001b[32mNTRhYTI0YmJjNjRmMzFiZWI1NGY5NTE5MDk3ZDYwNWIyNGI4Yg\u001b[0m\u001b[32m=='\u001b[0m,\n",
              "    \u001b[32m'size_bytes'\u001b[0m: \u001b[32m'11259960'\u001b[0m,\n",
              "    \u001b[32m'state'\u001b[0m: \u001b[32m'ACTIVE'\u001b[0m,\n",
              "    \u001b[32m'uri'\u001b[0m: \u001b[32m'https://generativelanguage.googleapis.com/v1beta/files/d8wggvsw7j8z'\u001b[0m,\n",
              "    \u001b[32m'create_time'\u001b[0m: \u001b[32m'2024-07-26T04:49:01.840895Z'\u001b[0m,\n",
              "    \u001b[32m'expiration_time'\u001b[0m: \u001b[32m'2024-07-28T04:49:01.770397462Z'\u001b[0m,\n",
              "    \u001b[32m'update_time'\u001b[0m: \u001b[32m'2024-07-26T04:49:01.840895Z'\u001b[0m\u001b[1m}\u001b[0m\u001b[1m)\u001b[0m\n"
            ],
            "text/html": [
              "<pre style=\"white-space:pre;overflow-x:auto;line-height:normal;font-family:Menlo,'DejaVu Sans Mono',consolas,'Courier New',monospace\"><span style=\"color: #808000; text-decoration-color: #808000\">ref_audio</span>=<span style=\"color: #800080; text-decoration-color: #800080; font-weight: bold\">genai</span><span style=\"color: #800080; text-decoration-color: #800080; font-weight: bold\">.File</span><span style=\"font-weight: bold\">({</span>\n",
              "    <span style=\"color: #008000; text-decoration-color: #008000\">'name'</span>: <span style=\"color: #008000; text-decoration-color: #008000\">'files/d8wggvsw7j8z'</span>,\n",
              "    <span style=\"color: #008000; text-decoration-color: #008000\">'display_name'</span>: <span style=\"color: #008000; text-decoration-color: #008000\">'comida_colombia'</span>,\n",
              "    <span style=\"color: #008000; text-decoration-color: #008000\">'mime_type'</span>: <span style=\"color: #008000; text-decoration-color: #008000\">'audio/mpeg'</span>,\n",
              "    <span style=\"color: #008000; text-decoration-color: #008000\">'sha256_hash'</span>: <span style=\"color: #008000; text-decoration-color: #008000\">'NDFhMDMzMmQzNWZjZGI3Yzc1MmRkOTM2OWIxNTRhYTI0YmJjNjRmMzFiZWI1NGY5NTE5MDk3ZDYwNWIyNGI4Yg=='</span>,\n",
              "    <span style=\"color: #008000; text-decoration-color: #008000\">'size_bytes'</span>: <span style=\"color: #008000; text-decoration-color: #008000\">'11259960'</span>,\n",
              "    <span style=\"color: #008000; text-decoration-color: #008000\">'state'</span>: <span style=\"color: #008000; text-decoration-color: #008000\">'ACTIVE'</span>,\n",
              "    <span style=\"color: #008000; text-decoration-color: #008000\">'uri'</span>: <span style=\"color: #008000; text-decoration-color: #008000\">'https://generativelanguage.googleapis.com/v1beta/files/d8wggvsw7j8z'</span>,\n",
              "    <span style=\"color: #008000; text-decoration-color: #008000\">'create_time'</span>: <span style=\"color: #008000; text-decoration-color: #008000\">'2024-07-26T04:49:01.840895Z'</span>,\n",
              "    <span style=\"color: #008000; text-decoration-color: #008000\">'expiration_time'</span>: <span style=\"color: #008000; text-decoration-color: #008000\">'2024-07-28T04:49:01.770397462Z'</span>,\n",
              "    <span style=\"color: #008000; text-decoration-color: #008000\">'update_time'</span>: <span style=\"color: #008000; text-decoration-color: #008000\">'2024-07-26T04:49:01.840895Z'</span><span style=\"font-weight: bold\">})</span>\n",
              "</pre>\n"
            ]
          },
          "metadata": {}
        }
      ]
    },
    {
      "cell_type": "code",
      "source": [
        "model = genai.GenerativeModel('gemini-1.5-flash-001')\n",
        "prompt = [ref_audio, \"Identify the recipes:\"]\n",
        "response = model.generate_content(prompt)\n",
        "console.print(response.text)"
      ],
      "metadata": {
        "colab": {
          "base_uri": "https://localhost:8080/",
          "height": 295
        },
        "id": "NQAxlcBhaoeq",
        "outputId": "62e74dda-21c6-4aea-9c86-9436fe30e5ee"
      },
      "execution_count": null,
      "outputs": [
        {
          "output_type": "display_data",
          "data": {
            "text/plain": [
              "Here are the recipes mentioned in the video:\n",
              "\n",
              "\u001b[1;36m1\u001b[0m. **Bandeja Paisa:** A hearty dish with beef, chorizo, rice, chicharrón, morcilla, egg, avocado, or palta, beans, \n",
              "arepa, and tajada.\n",
              "\u001b[1;36m2\u001b[0m. **Ajiaco:** A soup from Bogota with shredded chicken, corn, papa criolla, and sometimes capers and cream.\n",
              "\u001b[1;36m3\u001b[0m. **Lechona:** Roasted pig filled with various ingredients, often served with arepas and seasoned with herbs.\n",
              "\u001b[1;36m4\u001b[0m. **Changua:** A light soup made with milk, eggs, onion, salt, toasted bread, butter, and cilantro.\n",
              "\u001b[1;36m5\u001b[0m. **Sancocho:** A traditional Latin American soup, with variations depending on the region, usually includes \n",
              "meats, vegetables like yuca, ñame, and plantains.\n",
              "\u001b[1;36m6\u001b[0m. **Arepas:** A popular cornbread, served cold or grilled, used as a base for many meals.\n",
              "\u001b[1;36m7\u001b[0m. **Tamales:** A steamed corn husk package filled with a variety of ingredients, varying in flavor depending on \n",
              "the region.\n",
              "\u001b[1;36m8\u001b[0m. **Fritanga:** A street food platter with meats, cheese, fried or roasted potatoes, eggs, avocado, and sauces. \n",
              "\u001b[1;36m9\u001b[0m. **Mondongo:** A soup made with tripe, popular in Colombia and related to the country's history of slavery.\n",
              "\u001b[1;36m10\u001b[0m. **Mondongo:**  A soup made with tripe, a popular dish in Colombia with historical significance related to the \n",
              "time of slavery. \n",
              "\n"
            ],
            "text/html": [
              "<pre style=\"white-space:pre;overflow-x:auto;line-height:normal;font-family:Menlo,'DejaVu Sans Mono',consolas,'Courier New',monospace\">Here are the recipes mentioned in the video:\n",
              "\n",
              "<span style=\"color: #008080; text-decoration-color: #008080; font-weight: bold\">1</span>. **Bandeja Paisa:** A hearty dish with beef, chorizo, rice, chicharrón, morcilla, egg, avocado, or palta, beans, \n",
              "arepa, and tajada.\n",
              "<span style=\"color: #008080; text-decoration-color: #008080; font-weight: bold\">2</span>. **Ajiaco:** A soup from Bogota with shredded chicken, corn, papa criolla, and sometimes capers and cream.\n",
              "<span style=\"color: #008080; text-decoration-color: #008080; font-weight: bold\">3</span>. **Lechona:** Roasted pig filled with various ingredients, often served with arepas and seasoned with herbs.\n",
              "<span style=\"color: #008080; text-decoration-color: #008080; font-weight: bold\">4</span>. **Changua:** A light soup made with milk, eggs, onion, salt, toasted bread, butter, and cilantro.\n",
              "<span style=\"color: #008080; text-decoration-color: #008080; font-weight: bold\">5</span>. **Sancocho:** A traditional Latin American soup, with variations depending on the region, usually includes \n",
              "meats, vegetables like yuca, ñame, and plantains.\n",
              "<span style=\"color: #008080; text-decoration-color: #008080; font-weight: bold\">6</span>. **Arepas:** A popular cornbread, served cold or grilled, used as a base for many meals.\n",
              "<span style=\"color: #008080; text-decoration-color: #008080; font-weight: bold\">7</span>. **Tamales:** A steamed corn husk package filled with a variety of ingredients, varying in flavor depending on \n",
              "the region.\n",
              "<span style=\"color: #008080; text-decoration-color: #008080; font-weight: bold\">8</span>. **Fritanga:** A street food platter with meats, cheese, fried or roasted potatoes, eggs, avocado, and sauces. \n",
              "<span style=\"color: #008080; text-decoration-color: #008080; font-weight: bold\">9</span>. **Mondongo:** A soup made with tripe, popular in Colombia and related to the country's history of slavery.\n",
              "<span style=\"color: #008080; text-decoration-color: #008080; font-weight: bold\">10</span>. **Mondongo:**  A soup made with tripe, a popular dish in Colombia with historical significance related to the \n",
              "time of slavery. \n",
              "\n",
              "</pre>\n"
            ]
          },
          "metadata": {}
        }
      ]
    },
    {
      "cell_type": "code",
      "source": [
        "model = genai.GenerativeModel('gemini-1.5-flash-001')\n",
        "prompt = [ref_audio, \"Provide a transcript of the speech from 02:30 to 03:29\"]\n",
        "response = model.generate_content(prompt)\n",
        "console.print(response.text)"
      ],
      "metadata": {
        "colab": {
          "base_uri": "https://localhost:8080/",
          "height": 230
        },
        "id": "6DwSUZhZYIVL",
        "outputId": "52a64c9d-7991-44e5-d924-e9780eec8b15"
      },
      "execution_count": null,
      "outputs": [
        {
          "output_type": "display_data",
          "data": {
            "text/plain": [
              "Finalmente, llegamos al sancocho, el epítome de lo latinoamericano. Sin dudas, se trata del plato más repetido \n",
              "dentro de la gastronomía de América Latina. En Colombia, este plato cobra una sazón especial. El sancocho lo puedes\n",
              "probar en cualquier ciudad de Colombia, a cualquier hora, con cualquier clima. Pero lo que te recomendamos es que \n",
              "lo hagas en la región andina o en Bogotá, donde el frío de la zona hará un buen contraste. Dependiendo de la región\n",
              "en la que lo pruebes, lo podrás encontrar con ingredientes distintos, pero siempre con ese toque especial que el \n",
              "colombiano sabe darle a los platos típicos de Colombia. \u001b[1;36m6\u001b[0m: arepas. La arepa es la razón de fondo de cualquier \n",
              "conflicto entre Venezuela y Colombia. Se trata de una especie de pan hecho con harina de maíz, que se sirve frío y \n",
              "asado. Es tan ideal para el desayuno como para la cena y también suele ser el acompañante perfecto de muchos \n",
              "almuerzos. Lo mejor: puedes rellenarla con lo que se te antoje, por lo cual, nunca te cansarás de comer arepas. Lo \n",
              "mejor entre las comidas típicas de Colombia. \u001b[1;36m7\u001b[0m: tamales. Cuando hablamos de tamales, lo primero en lo que solemos \n",
              "pensar es en la gastronomía mexicana, pero la verdad es que este es un platillo bastante popular en toda la región.\n",
              "En Colombia, hay diferentes versiones de los tamales: está el de Tolima, el de Santa Elena y el de bogotano, y \n",
              "todavía otros tantos. Lo bueno es que todos son deliciosos. \n"
            ],
            "text/html": [
              "<pre style=\"white-space:pre;overflow-x:auto;line-height:normal;font-family:Menlo,'DejaVu Sans Mono',consolas,'Courier New',monospace\">Finalmente, llegamos al sancocho, el epítome de lo latinoamericano. Sin dudas, se trata del plato más repetido \n",
              "dentro de la gastronomía de América Latina. En Colombia, este plato cobra una sazón especial. El sancocho lo puedes\n",
              "probar en cualquier ciudad de Colombia, a cualquier hora, con cualquier clima. Pero lo que te recomendamos es que \n",
              "lo hagas en la región andina o en Bogotá, donde el frío de la zona hará un buen contraste. Dependiendo de la región\n",
              "en la que lo pruebes, lo podrás encontrar con ingredientes distintos, pero siempre con ese toque especial que el \n",
              "colombiano sabe darle a los platos típicos de Colombia. <span style=\"color: #008080; text-decoration-color: #008080; font-weight: bold\">6</span>: arepas. La arepa es la razón de fondo de cualquier \n",
              "conflicto entre Venezuela y Colombia. Se trata de una especie de pan hecho con harina de maíz, que se sirve frío y \n",
              "asado. Es tan ideal para el desayuno como para la cena y también suele ser el acompañante perfecto de muchos \n",
              "almuerzos. Lo mejor: puedes rellenarla con lo que se te antoje, por lo cual, nunca te cansarás de comer arepas. Lo \n",
              "mejor entre las comidas típicas de Colombia. <span style=\"color: #008080; text-decoration-color: #008080; font-weight: bold\">7</span>: tamales. Cuando hablamos de tamales, lo primero en lo que solemos \n",
              "pensar es en la gastronomía mexicana, pero la verdad es que este es un platillo bastante popular en toda la región.\n",
              "En Colombia, hay diferentes versiones de los tamales: está el de Tolima, el de Santa Elena y el de bogotano, y \n",
              "todavía otros tantos. Lo bueno es que todos son deliciosos. \n",
              "</pre>\n"
            ]
          },
          "metadata": {}
        }
      ]
    }
  ]
}